{
 "cells": [
  {
   "cell_type": "markdown",
   "id": "037759f5-20dd-4e0f-bbd7-c0947d7506c8",
   "metadata": {},
   "source": [
    "## Module 4 Programming Assignment - Modules and Databases - 16.8"
   ]
  },
  {
   "cell_type": "code",
   "execution_count": 1,
   "id": "d25639d6-fe73-4c81-af33-c1e684aee1f6",
   "metadata": {},
   "outputs": [
    {
     "name": "stdout",
     "output_type": "stream",
     "text": [
      "Perdido Street Station\n",
      "Small Gods\n",
      "The Spellman Files\n",
      "The Weirdstone of Brisingamen\n",
      "Thud!\n"
     ]
    }
   ],
   "source": [
    "## This program will take the information from a database called books.dp and print the titles in ABC order.\n",
    "\n",
    "import sqlalchemy ## Python toolkit to interact with databases and allowing the queries to be executed in Python rather than SQL\n",
    "from sqlalchemy import text ## Importing text function to run the raw SQL query\n",
    "\n",
    "database_path = \"C:/Users/carly/OneDrive/Desktop/books.db\" ## Define database path\n",
    "conn = sqlalchemy.create_engine(f\"sqlite:///{database_path}\") ##Creates a connection to the SQLite database creating an SQLAlchemy engine\n",
    "\n",
    "sql = text('select title from book order by title asc') ## SQL query that needs to be run\n",
    "\n",
    "with conn.connect() as connection: ## creating a connection to the database to run the query\n",
    "    result = connection.execute(sql) ## Runs the SQL query\n",
    "    for row in result:  ## set the number of times to run through the list to print by using the SQL query result number\n",
    "        print(row[0]) ## prints the title of each book"
   ]
  },
  {
   "cell_type": "code",
   "execution_count": null,
   "id": "48363244-4c60-4197-b8cd-485162ac33f5",
   "metadata": {},
   "outputs": [],
   "source": []
  }
 ],
 "metadata": {
  "kernelspec": {
   "display_name": "Python 3 (ipykernel)",
   "language": "python",
   "name": "python3"
  },
  "language_info": {
   "codemirror_mode": {
    "name": "ipython",
    "version": 3
   },
   "file_extension": ".py",
   "mimetype": "text/x-python",
   "name": "python",
   "nbconvert_exporter": "python",
   "pygments_lexer": "ipython3",
   "version": "3.13.5"
  }
 },
 "nbformat": 4,
 "nbformat_minor": 5
}
