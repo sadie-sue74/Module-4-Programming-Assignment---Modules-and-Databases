{
 "cells": [
  {
   "cell_type": "markdown",
   "id": "e41e2370-7f32-4781-930d-2af3c5877f6d",
   "metadata": {},
   "source": [
    "## Module 4 Programming Assignment - Modules and Databases"
   ]
  },
  {
   "cell_type": "code",
   "execution_count": 6,
   "id": "8a76d996-c6ae-4a36-a220-c75f8c2eee0e",
   "metadata": {},
   "outputs": [],
   "source": [
    "## Session 11.1\n",
    "def zoo():\n",
    "    print(\"Open 9-5 daily\")"
   ]
  }
 ],
 "metadata": {
  "kernelspec": {
   "display_name": "Python 3 (ipykernel)",
   "language": "python",
   "name": "python3"
  },
  "language_info": {
   "codemirror_mode": {
    "name": "ipython",
    "version": 3
   },
   "file_extension": ".py",
   "mimetype": "text/x-python",
   "name": "python",
   "nbconvert_exporter": "python",
   "pygments_lexer": "ipython3",
   "version": "3.13.5"
  }
 },
 "nbformat": 4,
 "nbformat_minor": 5
}
